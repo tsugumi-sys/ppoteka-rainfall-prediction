{
 "cells": [
  {
   "cell_type": "code",
   "execution_count": 1,
   "metadata": {},
   "outputs": [
    {
     "name": "stderr",
     "output_type": "stream",
     "text": [
      "/home/akira/anaconda3/envs/poteka-pipeline-pytorch/lib/python3.9/site-packages/tqdm/auto.py:22: TqdmWarning: IProgress not found. Please update jupyter and ipywidgets. See https://ipywidgets.readthedocs.io/en/stable/user_install.html\n",
      "  from .autonotebook import tqdm as notebook_tqdm\n"
     ]
    }
   ],
   "source": [
    "import os\n",
    "from datetime import datetime, timedelta\n",
    "import string\n",
    "from enum import Enum\n",
    "import mlflow\n",
    "import pandas as pd\n",
    "import numpy as np\n",
    "import seaborn as sns\n",
    "import matplotlib.pyplot as plt\n",
    "import matplotlib.colors as mcolors\n",
    "from mpl_toolkits.axes_grid1 import AxesGrid\n",
    "import matplotlib.patches as patches\n",
    "import cartopy.crs as ccrs\n",
    "import cartopy.feature as cfeature\n",
    "from cartopy.mpl.geoaxes import GeoAxes\n",
    "from cartopy.mpl.ticker import LongitudeFormatter, LatitudeFormatter\n",
    "\n",
    "from test_case_utils import WeatherParams, TestCase, TargetCases, MlflowConfig\n",
    "from geo_plot_utils import create_geo_plot, save_geo_plots, interpolate, TargetManilaErea, create_img_from_griddata"
   ]
  },
  {
   "cell_type": "code",
   "execution_count": 2,
   "metadata": {},
   "outputs": [],
   "source": [
    "plt.style.use('seaborn-bright')"
   ]
  },
  {
   "cell_type": "code",
   "execution_count": 3,
   "metadata": {},
   "outputs": [],
   "source": [
    "lonlats = [\n",
    "(14.6471, 121.0721),\n",
    "(14.5987, 121.0892),\n",
    "(14.5414, 121.1156),\n",
    "(14.5837, 121.0061),\n",
    "(14.4896, 121.0521),\n",
    "(14.6705, 120.9974),\n",
    "(14.6706, 120.9552),\n",
    "(14.5141, 121.0044),\n",
    "(14.7409, 120.9899),\n",
    "(14.6934, 120.9683),\n",
    "(14.4778, 120.9799),\n",
    "(14.4331, 120.9844),\n",
    "(14.6297, 120.9687),\n",
    "(14.5729, 121.0974),\n",
    "(14.5702, 121.0818),\n",
    "(14.5447, 120.9893),\n",
    "(14.7134, 121.0009),\n",
    "(14.6509, 120.9475),\n",
    "(14.5917, 120.9815),\n",
    "(14.4119, 121.0522),\n",
    "(14.3961, 120.9398),\n",
    "(14.6040, 121.0406),\n",
    "(14.5467, 121.0666),\n",
    "(14.5769, 121.0335),\n",
    "(14.4575, 121.0513),\n",
    "(14.5354, 121.0412),\n",
    "(14.5107, 121.0358),\n",
    "(14.3836, 121.0337),\n",
    "(14.6449, 121.0444),\n",
    "(14.4728, 121.0185),\n",
    "(14.6589, 121.0298),\n",
    "(14.7192, 121.0285),\n",
    "(14.4599, 120.9320),\n",
    "(14.6857, 121.0646),\n",
    "(14.7199, 121.0706),\n",
    "(14.3968, 120.9744),\n",
    "(14.7073, 120.9445),\n",
    "(14.6346, 121.0857),\n",
    "(14.5745, 121.0415),\n",
    "(14.5763, 121.2651),\n",
    "(14.5734, 121.099)\n",
    "]"
   ]
  },
  {
   "cell_type": "code",
   "execution_count": 7,
   "metadata": {},
   "outputs": [
    {
     "data": {
      "image/png": "[encoded data removed]",
      "text/plain": [
       "<Figure size 640x640 with 1 Axes>"
      ]
     },
     "metadata": {},
     "output_type": "display_data"
    }
   ],
   "source": [
    "def set_plotarea(ax, projection) -> None:\n",
    "    ax.set_extent(\n",
    "        [\n",
    "            120.8434,\n",
    "            121.3732,\n",
    "            14.3816,\n",
    "            14.7550,\n",
    "        ],\n",
    "        crs=projection,\n",
    "    )\n",
    "\n",
    "fig = plt.figure(figsize=(8, 8), dpi=80)\n",
    "projection = ccrs.PlateCarree()\n",
    "ax = fig.add_subplot(1, 1, 1, projection=projection)\n",
    "set_plotarea(ax, projection)\n",
    "ax.coastlines()\n",
    "plt.show()\n",
    "plt.close()"
   ]
  },
  {
   "cell_type": "code",
   "execution_count": null,
   "metadata": {},
   "outputs": [],
   "source": []
  }
 ],
 "metadata": {
  "kernelspec": {
   "display_name": "poteka-pipeline-pytorch",
   "language": "python",
   "name": "python3"
  },
  "language_info": {
   "codemirror_mode": {
    "name": "ipython",
    "version": 3
   },
   "file_extension": ".py",
   "mimetype": "text/x-python",
   "name": "python",
   "nbconvert_exporter": "python",
   "pygments_lexer": "ipython3",
   "version": "3.9.7"
  },
  "orig_nbformat": 4,
  "vscode": {
   "interpreter": {
    "hash": "2e0066cd67026a07bf3bf54f05d3f84018e4b6699f7fdc0153ea187bfb4fc5ad"
   }
  }
 },
 "nbformat": 4,
 "nbformat_minor": 2
}
