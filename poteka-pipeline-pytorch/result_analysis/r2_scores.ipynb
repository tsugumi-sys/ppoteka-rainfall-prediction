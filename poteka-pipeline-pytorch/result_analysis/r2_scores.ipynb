{
 "cells": [
  {
   "cell_type": "code",
   "execution_count": 1,
   "id": "d2ec374d-5470-4bdc-950e-70e3aab7fc49",
   "metadata": {},
   "outputs": [],
   "source": [
    "import os\n",
    "import pandas as pd\n",
    "import matplotlib.pyplot as plt\n",
    "import seaborn as sns\n",
    "import mlflow\n",
    "from mlflow.tracking.client import MlflowClient\n",
    "\n",
    "from utils import get_results_dict, get_metrics_history_df"
   ]
  },
  {
   "cell_type": "code",
   "execution_count": 2,
   "id": "c8f570e4",
   "metadata": {},
   "outputs": [],
   "source": [
    "mlflow_tracking_uri = \"file:///home/akira/Desktop/p-poteka/poteka-pipeline-pytorch/mlruns\"\n",
    "mlflow_experiment_id = \"10\"\n",
    "save_img_dir_path = f\"./results/{mlflow_experiment_id}/r2_score/standard\"\n",
    "\n",
    "os.makedirs(save_img_dir_path, exist_ok=True)"
   ]
  },
  {
   "cell_type": "code",
   "execution_count": 3,
   "id": "de2980a6-4da9-4141-8215-3952b5a4008e",
   "metadata": {},
   "outputs": [],
   "source": [
    "mlflow.set_tracking_uri(mlflow_tracking_uri)"
   ]
  },
  {
   "cell_type": "code",
   "execution_count": 4,
   "id": "ae0478a1-b0a8-4802-8cb9-a954e4677b95",
   "metadata": {},
   "outputs": [
    {
     "name": "stdout",
     "output_type": "stream",
     "text": [
      "standard evaluate runs count: 14\n"
     ]
    }
   ],
   "source": [
    "standard_eval_runs = MlflowClient().search_runs(\"10\", filter_string=\"tags.mlflow.project.entryPoint = 'evaluate'\")\n",
    "print(f\"standard evaluate runs count: {len(standard_eval_runs)}\")"
   ]
  },
  {
   "cell_type": "code",
   "execution_count": 5,
   "id": "ba63a4af-a2b4-481e-97c5-c9d87995ce70",
   "metadata": {},
   "outputs": [],
   "source": [
    "standard_results_dict = get_results_dict(standard_eval_runs)"
   ]
  },
  {
   "cell_type": "code",
   "execution_count": 12,
   "id": "b35d1ede-ff41-4695-a85a-2f08e5284d6e",
   "metadata": {},
   "outputs": [
    {
     "data": {
      "text/html": [
       "<div>\n",
       "<style scoped>\n",
       "    .dataframe tbody tr th:only-of-type {\n",
       "        vertical-align: middle;\n",
       "    }\n",
       "\n",
       "    .dataframe tbody tr th {\n",
       "        vertical-align: top;\n",
       "    }\n",
       "\n",
       "    .dataframe thead th {\n",
       "        text-align: right;\n",
       "    }\n",
       "</style>\n",
       "<table border=\"1\" class=\"dataframe\">\n",
       "  <thead>\n",
       "    <tr style=\"text-align: right;\">\n",
       "      <th></th>\n",
       "      <th>r2_score</th>\n",
       "    </tr>\n",
       "  </thead>\n",
       "  <tbody>\n",
       "    <tr>\n",
       "      <th>count</th>\n",
       "      <td>126.000000</td>\n",
       "    </tr>\n",
       "    <tr>\n",
       "      <th>mean</th>\n",
       "      <td>0.339659</td>\n",
       "    </tr>\n",
       "    <tr>\n",
       "      <th>std</th>\n",
       "      <td>0.071633</td>\n",
       "    </tr>\n",
       "    <tr>\n",
       "      <th>min</th>\n",
       "      <td>0.183000</td>\n",
       "    </tr>\n",
       "    <tr>\n",
       "      <th>25%</th>\n",
       "      <td>0.285750</td>\n",
       "    </tr>\n",
       "    <tr>\n",
       "      <th>50%</th>\n",
       "      <td>0.333000</td>\n",
       "    </tr>\n",
       "    <tr>\n",
       "      <th>75%</th>\n",
       "      <td>0.389750</td>\n",
       "    </tr>\n",
       "    <tr>\n",
       "      <th>max</th>\n",
       "      <td>0.482000</td>\n",
       "    </tr>\n",
       "  </tbody>\n",
       "</table>\n",
       "</div>"
      ],
      "text/plain": [
       "         r2_score\n",
       "count  126.000000\n",
       "mean     0.339659\n",
       "std      0.071633\n",
       "min      0.183000\n",
       "25%      0.285750\n",
       "50%      0.333000\n",
       "75%      0.389750\n",
       "max      0.482000"
      ]
     },
     "execution_count": 12,
     "metadata": {},
     "output_type": "execute_result"
    }
   ],
   "source": [
    "param_names_list, seq_param_names_list = [], []\n",
    "r2_scores_list, seq_r2_scores_list = [], []\n",
    "keys_list, seq_keys_list = [], []\n",
    "for param_name, results_dict in standard_results_dict[\"r2_scores\"].items():\n",
    "    for key, val in results_dict.items():\n",
    "        if \"Sequential\" in key:\n",
    "            seq_param_names_list.append(param_name)\n",
    "            seq_r2_scores_list.append(val)\n",
    "            keys_list.append(key)\n",
    "        else:\n",
    "            param_names_list.append(param_name)\n",
    "            r2_scores_list.append(val)\n",
    "            seq_keys_list.append(key)\n",
    "\n",
    "df = pd.DataFrame({\"input_parameters\": param_names_list, \"r2_score\": r2_scores_list, \"key\": keys_list})\n",
    "seq_df = pd.DataFrame({\"input_parameters\": seq_param_names_list, \"r2_score\": seq_r2_scores_list, \"key\": seq_keys_list})\n",
    "df.describe()"
   ]
  },
  {
   "cell_type": "code",
   "execution_count": 7,
   "id": "10c32217-5675-41ab-b5c4-94531f46aac8",
   "metadata": {},
   "outputs": [
    {
     "data": {
      "text/html": [
       "<div>\n",
       "<style scoped>\n",
       "    .dataframe tbody tr th:only-of-type {\n",
       "        vertical-align: middle;\n",
       "    }\n",
       "\n",
       "    .dataframe tbody tr th {\n",
       "        vertical-align: top;\n",
       "    }\n",
       "\n",
       "    .dataframe thead th {\n",
       "        text-align: right;\n",
       "    }\n",
       "</style>\n",
       "<table border=\"1\" class=\"dataframe\">\n",
       "  <thead>\n",
       "    <tr style=\"text-align: right;\">\n",
       "      <th></th>\n",
       "      <th>r2_score</th>\n",
       "    </tr>\n",
       "  </thead>\n",
       "  <tbody>\n",
       "    <tr>\n",
       "      <th>count</th>\n",
       "      <td>126.000000</td>\n",
       "    </tr>\n",
       "    <tr>\n",
       "      <th>mean</th>\n",
       "      <td>0.944587</td>\n",
       "    </tr>\n",
       "    <tr>\n",
       "      <th>std</th>\n",
       "      <td>0.010753</td>\n",
       "    </tr>\n",
       "    <tr>\n",
       "      <th>min</th>\n",
       "      <td>0.908000</td>\n",
       "    </tr>\n",
       "    <tr>\n",
       "      <th>25%</th>\n",
       "      <td>0.940000</td>\n",
       "    </tr>\n",
       "    <tr>\n",
       "      <th>50%</th>\n",
       "      <td>0.945500</td>\n",
       "    </tr>\n",
       "    <tr>\n",
       "      <th>75%</th>\n",
       "      <td>0.950750</td>\n",
       "    </tr>\n",
       "    <tr>\n",
       "      <th>max</th>\n",
       "      <td>0.972000</td>\n",
       "    </tr>\n",
       "  </tbody>\n",
       "</table>\n",
       "</div>"
      ],
      "text/plain": [
       "         r2_score\n",
       "count  126.000000\n",
       "mean     0.944587\n",
       "std      0.010753\n",
       "min      0.908000\n",
       "25%      0.940000\n",
       "50%      0.945500\n",
       "75%      0.950750\n",
       "max      0.972000"
      ]
     },
     "execution_count": 7,
     "metadata": {},
     "output_type": "execute_result"
    }
   ],
   "source": [
    "seq_df.describe()"
   ]
  },
  {
   "cell_type": "code",
   "execution_count": 8,
   "id": "a2e78476-d7ba-4452-8b05-46ef24f1b4a6",
   "metadata": {},
   "outputs": [
    {
     "data": {
      "image/png": "[encoded data removed]",
      "text/plain": [
       "<Figure size 576x432 with 1 Axes>"
      ]
     },
     "metadata": {
      "needs_background": "light"
     },
     "output_type": "display_data"
    }
   ],
   "source": [
    "target_columns = [\"Rain\", \"RainTemperature\", \"RainHumidity\", \"RainWind\", \"RainTemperatureHumidityWind\"]\n",
    "fig, ax = plt.subplots(figsize=(8, 6))\n",
    "sns.boxplot(data=df.loc[df[\"input_parameters\"].isin(target_columns)], x=\"input_parameters\", y=\"r2_score\", order=target_columns, ax=ax)\n",
    "ax.set_title(\"R2 scores\")\n",
    "plt.xticks(rotation=330)\n",
    "plt.savefig(f\"{save_img_dir_path}/r2scores.png\")"
   ]
  },
  {
   "cell_type": "code",
   "execution_count": 9,
   "id": "0c74d111-0061-43b7-92c5-0192817689a3",
   "metadata": {},
   "outputs": [
    {
     "data": {
      "image/png": "[encoded data removed]",
      "text/plain": [
       "<Figure size 576x432 with 1 Axes>"
      ]
     },
     "metadata": {
      "needs_background": "light"
     },
     "output_type": "display_data"
    }
   ],
   "source": [
    "target_columns = [\"Rain\", \"RainTemperature\", \"RainHumidity\", \"RainWind\", \"RainTemperatureHumidityWind\"]\n",
    "fig, ax = plt.subplots(figsize=(8, 6))\n",
    "sns.boxplot(data=seq_df.loc[df[\"input_parameters\"].isin(target_columns)], x=\"input_parameters\", y=\"r2_score\", order=target_columns)\n",
    "ax.set_title(\"R2 scores\")\n",
    "plt.xticks(rotation=330)\n",
    "fig.savefig(f\"{save_img_dir_path}/seq_r2scores.png\")"
   ]
  },
  {
   "cell_type": "code",
   "execution_count": 13,
   "id": "8d91771b",
   "metadata": {},
   "outputs": [
    {
     "data": {
      "text/html": [
       "<div>\n",
       "<style scoped>\n",
       "    .dataframe tbody tr th:only-of-type {\n",
       "        vertical-align: middle;\n",
       "    }\n",
       "\n",
       "    .dataframe tbody tr th {\n",
       "        vertical-align: top;\n",
       "    }\n",
       "\n",
       "    .dataframe thead th {\n",
       "        text-align: right;\n",
       "    }\n",
       "</style>\n",
       "<table border=\"1\" class=\"dataframe\">\n",
       "  <thead>\n",
       "    <tr style=\"text-align: right;\">\n",
       "      <th></th>\n",
       "      <th>input_parameters</th>\n",
       "      <th>r2_score</th>\n",
       "      <th>key</th>\n",
       "    </tr>\n",
       "  </thead>\n",
       "  <tbody>\n",
       "    <tr>\n",
       "      <th>0</th>\n",
       "      <td>RainWind</td>\n",
       "      <td>0.479</td>\n",
       "      <td>r2_Sequential_prediction_2020-09-14_cases</td>\n",
       "    </tr>\n",
       "    <tr>\n",
       "      <th>1</th>\n",
       "      <td>RainWind</td>\n",
       "      <td>0.426</td>\n",
       "      <td>r2_Sequential_prediction_2019-10-12_cases</td>\n",
       "    </tr>\n",
       "    <tr>\n",
       "      <th>2</th>\n",
       "      <td>RainWind</td>\n",
       "      <td>0.373</td>\n",
       "      <td>r2_Sequential_prediction_TC_affected_cases</td>\n",
       "    </tr>\n",
       "    <tr>\n",
       "      <th>3</th>\n",
       "      <td>RainWind</td>\n",
       "      <td>0.328</td>\n",
       "      <td>r2_Sequential_prediction_2020-10-12_cases</td>\n",
       "    </tr>\n",
       "    <tr>\n",
       "      <th>4</th>\n",
       "      <td>RainWind</td>\n",
       "      <td>0.267</td>\n",
       "      <td>r2_Sequential_prediction_2020-08-07_cases</td>\n",
       "    </tr>\n",
       "  </tbody>\n",
       "</table>\n",
       "</div>"
      ],
      "text/plain": [
       "  input_parameters  r2_score                                         key\n",
       "0         RainWind     0.479   r2_Sequential_prediction_2020-09-14_cases\n",
       "1         RainWind     0.426   r2_Sequential_prediction_2019-10-12_cases\n",
       "2         RainWind     0.373  r2_Sequential_prediction_TC_affected_cases\n",
       "3         RainWind     0.328   r2_Sequential_prediction_2020-10-12_cases\n",
       "4         RainWind     0.267   r2_Sequential_prediction_2020-08-07_cases"
      ]
     },
     "execution_count": 13,
     "metadata": {},
     "output_type": "execute_result"
    }
   ],
   "source": [
    "# Case rmses boxplot\n",
    "df.head()"
   ]
  },
  {
   "cell_type": "code",
   "execution_count": 24,
   "id": "9e3892ed",
   "metadata": {},
   "outputs": [],
   "source": [
    "import re\n",
    "# Get each cases r2 score\n",
    "standard_eval_runs[0]\n",
    "artifact_path = \"file:///home/akira/Desktop/p-poteka/poteka-pipeline-pytorch/mlruns/10/39c0a640796c4cbda896915e86b34762/artifacts\".replace(\"file://\", \"\")\n",
    "for dir_name in os.listdir(artifact_path + \"/evaluations\"):\n",
    "    if re.match(\".*_start$\", dir_name) is not None:\n",
    "        predict_result_dir_path = os.path.join(artifact_path, \"evaluations\", dir_name)"
   ]
  },
  {
   "cell_type": "code",
   "execution_count": 26,
   "id": "d1d9fa38",
   "metadata": {},
   "outputs": [
    {
     "name": "stdout",
     "output_type": "stream",
     "text": [
      "pred_observ_df_7-10.csv\n",
      "pred_observ_df_7-30.csv\n",
      "pred_observ_df_7-50.csv\n",
      "pred_observ_df_7-0.csv\n",
      "pred_observ_df_7-20.csv\n",
      "pred_observ_df_7-40.csv\n"
     ]
    }
   ],
   "source": [
    "result_csv_name_regex = \"^pred_observ_df_.*.csv$\"\n",
    "for filename in os.listdir(predict_result_dir_path):\n",
    "    if re.match(result_csv_name_regex, filename) is not None:\n",
    "        print(filename)"
   ]
  },
  {
   "cell_type": "code",
   "execution_count": 29,
   "id": "7f3721c0",
   "metadata": {},
   "outputs": [
    {
     "name": "stdout",
     "output_type": "stream",
     "text": [
      "0.9540512988965106\n"
     ]
    }
   ],
   "source": [
    "from sklearn.metrics import r2_score\n",
    "pred_result_df = pd.read_csv(os.path.join(predict_result_dir_path, \"pred_observ_df_7-0.csv\"))\n",
    "pred_result_df.head()\n",
    "r2_score = r2 = r2_score(pred_result_df[\"hour-rain\"].astype(float).values, pred_result_df[\"Pred_Value\"].astype(float).values)\n",
    "print(r2_score)"
   ]
  },
  {
   "cell_type": "code",
   "execution_count": 14,
   "id": "e87479ab",
   "metadata": {},
   "outputs": [
    {
     "data": {
      "text/plain": [
       "14"
      ]
     },
     "execution_count": 14,
     "metadata": {},
     "output_type": "execute_result"
    }
   ],
   "source": [
    "# grouping by date\n",
    "def get_grouped_case_date(case_name: str) -> str:\n",
    "    # TC case\n",
    "    if \"2019-10-04\" in case_name:\n",
    "        return \"2019-10-04\"\n",
    "    elif \"2020-07-04\" in case_name:\n",
    "        return \"2020-07-04\"\n",
    "    elif \"2019-10-12\" in case_name:\n",
    "        return \"2019-10-12\"\n",
    "\n",
    "    # Not TC case\n",
    "    elif \"2020-09-14\" in case_name:\n",
    "        return \"2020-09-14\"\n",
    "    elif \"2020-08-07\" in case_name:\n",
    "        return \"2020-08-07\"\n",
    "    elif \"2020-10-12\" in case_name:\n",
    "        return \"2020-10-12\"\n",
    "    else:\n",
    "        return \"else\"\n",
    "\n",
    "df[\"date\"] = df[\"key\"].apply(get_grouped_case_date)\n",
    "len(df.loc[df[\"date\"] == \"2019-10-04\"])"
   ]
  },
  {
   "cell_type": "code",
   "execution_count": null,
   "id": "a71e293d",
   "metadata": {},
   "outputs": [],
   "source": []
  }
 ],
 "metadata": {
  "kernelspec": {
   "display_name": "Python 3.8.13 ('plot')",
   "language": "python",
   "name": "python3"
  },
  "language_info": {
   "codemirror_mode": {
    "name": "ipython",
    "version": 3
   },
   "file_extension": ".py",
   "mimetype": "text/x-python",
   "name": "python",
   "nbconvert_exporter": "python",
   "pygments_lexer": "ipython3",
   "version": "3.8.13"
  },
  "vscode": {
   "interpreter": {
    "hash": "281b53d05a2cc87edcec75fe862e847d0dae331414a5f2cf6abf0231012cbe6f"
   }
  }
 },
 "nbformat": 4,
 "nbformat_minor": 5
}
