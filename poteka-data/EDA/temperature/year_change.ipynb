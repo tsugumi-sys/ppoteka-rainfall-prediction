{
 "cells": [
  {
   "cell_type": "code",
   "execution_count": 2,
   "metadata": {},
   "outputs": [],
   "source": [
    "import pandas as pd\n",
    "import sys\n",
    "\n",
    "sys.path.append(\"../..\")\n",
    "from common.utils import timestep_csv_names"
   ]
  },
  {
   "cell_type": "code",
   "execution_count": 3,
   "metadata": {},
   "outputs": [],
   "source": [
    "import os\n",
    "root_dir = \"../../../data/one_day_data/\"\n",
    "assert os.path.exists(root_dir)"
   ]
  },
  {
   "cell_type": "code",
   "execution_count": 4,
   "metadata": {},
   "outputs": [
    {
     "data": {
      "text/html": [
       "<div>\n",
       "<style scoped>\n",
       "    .dataframe tbody tr th:only-of-type {\n",
       "        vertical-align: middle;\n",
       "    }\n",
       "\n",
       "    .dataframe tbody tr th {\n",
       "        vertical-align: top;\n",
       "    }\n",
       "\n",
       "    .dataframe thead th {\n",
       "        text-align: right;\n",
       "    }\n",
       "</style>\n",
       "<table border=\"1\" class=\"dataframe\">\n",
       "  <thead>\n",
       "    <tr style=\"text-align: right;\">\n",
       "      <th></th>\n",
       "      <th>date</th>\n",
       "      <th>AT1</th>\n",
       "    </tr>\n",
       "  </thead>\n",
       "  <tbody>\n",
       "    <tr>\n",
       "      <th>712</th>\n",
       "      <td>2019-10-01</td>\n",
       "      <td>36.6</td>\n",
       "    </tr>\n",
       "    <tr>\n",
       "      <th>713</th>\n",
       "      <td>2019-10-01</td>\n",
       "      <td>25.2</td>\n",
       "    </tr>\n",
       "    <tr>\n",
       "      <th>710</th>\n",
       "      <td>2019-10-02</td>\n",
       "      <td>36.4</td>\n",
       "    </tr>\n",
       "    <tr>\n",
       "      <th>711</th>\n",
       "      <td>2019-10-02</td>\n",
       "      <td>21.9</td>\n",
       "    </tr>\n",
       "    <tr>\n",
       "      <th>721</th>\n",
       "      <td>2019-10-03</td>\n",
       "      <td>22.4</td>\n",
       "    </tr>\n",
       "  </tbody>\n",
       "</table>\n",
       "</div>"
      ],
      "text/plain": [
       "           date   AT1\n",
       "712  2019-10-01  36.6\n",
       "713  2019-10-01  25.2\n",
       "710  2019-10-02  36.4\n",
       "711  2019-10-02  21.9\n",
       "721  2019-10-03  22.4"
      ]
     },
     "execution_count": 4,
     "metadata": {},
     "output_type": "execute_result"
    }
   ],
   "source": [
    "_timestep_csv_names = timestep_csv_names(delta=10)\n",
    "\n",
    "target_col = \"AT1\"\n",
    "dates, values = [], []\n",
    "for year in os.listdir(root_dir):\n",
    "    for month in os.listdir(root_dir + f\"/{year}\"):\n",
    "        for date in os.listdir(root_dir + f\"/{year}/{month}\"):\n",
    "            _values = []\n",
    "            minimum_data_length = 40\n",
    "            start_time = \"0-0\"\n",
    "            for csv_filename in _timestep_csv_names:\n",
    "                csv_path = os.path.join(\n",
    "                        root_dir,\n",
    "                        year, month, date, csv_filename\n",
    "                    )\n",
    "                parquet_path = csv_path.replace(\".csv\", \".parquet.gzip\")\n",
    "                parquet_df = pd.read_parquet(parquet_path, engine=\"pyarrow\")\n",
    "\n",
    "                _values.append(parquet_df[target_col].max())\n",
    "                _values.append(parquet_df[target_col].min())\n",
    "\n",
    "                if len(parquet_df.index) < minimum_data_length:\n",
    "                    minimum_data_length = len(parquet_df.index)\n",
    "\n",
    "            if minimum_data_length > 0:\n",
    "                dates.append(date)\n",
    "                values.append(max(_values))\n",
    "\n",
    "                dates.append(date)\n",
    "                values.append(min(_values))\n",
    "\n",
    "df = pd.DataFrame({\"date\": dates, target_col: values})\n",
    "df = df.sort_values(by=\"date\")\n",
    "df.reset_index()\n",
    "df.head()"
   ]
  },
  {
   "cell_type": "code",
   "execution_count": 5,
   "metadata": {},
   "outputs": [
    {
     "data": {
      "text/html": [
       "<div>\n",
       "<style scoped>\n",
       "    .dataframe tbody tr th:only-of-type {\n",
       "        vertical-align: middle;\n",
       "    }\n",
       "\n",
       "    .dataframe tbody tr th {\n",
       "        vertical-align: top;\n",
       "    }\n",
       "\n",
       "    .dataframe thead th {\n",
       "        text-align: right;\n",
       "    }\n",
       "</style>\n",
       "<table border=\"1\" class=\"dataframe\">\n",
       "  <thead>\n",
       "    <tr style=\"text-align: right;\">\n",
       "      <th></th>\n",
       "      <th>date</th>\n",
       "      <th>AT1</th>\n",
       "      <th>month</th>\n",
       "    </tr>\n",
       "  </thead>\n",
       "  <tbody>\n",
       "    <tr>\n",
       "      <th>712</th>\n",
       "      <td>2019-10-01</td>\n",
       "      <td>36.6</td>\n",
       "      <td>2019-10</td>\n",
       "    </tr>\n",
       "    <tr>\n",
       "      <th>713</th>\n",
       "      <td>2019-10-01</td>\n",
       "      <td>25.2</td>\n",
       "      <td>2019-10</td>\n",
       "    </tr>\n",
       "    <tr>\n",
       "      <th>710</th>\n",
       "      <td>2019-10-02</td>\n",
       "      <td>36.4</td>\n",
       "      <td>2019-10</td>\n",
       "    </tr>\n",
       "    <tr>\n",
       "      <th>711</th>\n",
       "      <td>2019-10-02</td>\n",
       "      <td>21.9</td>\n",
       "      <td>2019-10</td>\n",
       "    </tr>\n",
       "    <tr>\n",
       "      <th>721</th>\n",
       "      <td>2019-10-03</td>\n",
       "      <td>22.4</td>\n",
       "      <td>2019-10</td>\n",
       "    </tr>\n",
       "  </tbody>\n",
       "</table>\n",
       "</div>"
      ],
      "text/plain": [
       "           date   AT1    month\n",
       "712  2019-10-01  36.6  2019-10\n",
       "713  2019-10-01  25.2  2019-10\n",
       "710  2019-10-02  36.4  2019-10\n",
       "711  2019-10-02  21.9  2019-10\n",
       "721  2019-10-03  22.4  2019-10"
      ]
     },
     "execution_count": 5,
     "metadata": {},
     "output_type": "execute_result"
    }
   ],
   "source": [
    "df[\"month\"] = df[\"date\"].apply(lambda x: x.split(\"-\")[0] + \"-\" + x.split(\"-\")[1])\n",
    "df.head()"
   ]
  },
  {
   "cell_type": "code",
   "execution_count": 10,
   "metadata": {},
   "outputs": [
    {
     "data": {
      "image/png": "[encoded data removed]",
      "text/plain": [
       "<Figure size 640x480 with 1 Axes>"
      ]
     },
     "metadata": {},
     "output_type": "display_data"
    }
   ],
   "source": [
    "import seaborn as sns\n",
    "import matplotlib.pyplot as plt\n",
    "\n",
    "\n",
    "sns.set_theme(style=\"whitegrid\")\n",
    "ax = sns.boxplot(data=df, x=\"month\", y=target_col, color=\"pink\")\n",
    "plt.xticks(rotation=75)\n",
    "ax.set_title(\"Monthly distribution of temperature\")\n",
    "ax.set_ylabel(\"Temperature (℃)\")\n",
    "ax.set_xlabel(\"Date\")\n",
    "\n",
    "plt.tight_layout()\n",
    "plt.savefig(\"./temp.png\")\n",
    "plt.show()\n",
    "plt.close()"
   ]
  },
  {
   "cell_type": "code",
   "execution_count": null,
   "metadata": {},
   "outputs": [],
   "source": []
  },
  {
   "cell_type": "code",
   "execution_count": null,
   "metadata": {},
   "outputs": [],
   "source": []
  }
 ],
 "metadata": {
  "interpreter": {
   "hash": "de5ff8a6a7c8cfdbe01ee77cd73736703544650b57009b4080e92318eaf02ce7"
  },
  "kernelspec": {
   "display_name": "Python 3.7.9 64-bit ('p-poteka': conda)",
   "language": "python",
   "name": "python3"
  },
  "language_info": {
   "codemirror_mode": {
    "name": "ipython",
    "version": 3
   },
   "file_extension": ".py",
   "mimetype": "text/x-python",
   "name": "python",
   "nbconvert_exporter": "python",
   "pygments_lexer": "ipython3",
   "version": "3.7.9"
  },
  "orig_nbformat": 4
 },
 "nbformat": 4,
 "nbformat_minor": 2
}
