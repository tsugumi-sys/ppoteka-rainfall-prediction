{
 "cells": [
  {
   "cell_type": "code",
   "execution_count": 1,
   "metadata": {},
   "outputs": [],
   "source": [
    "import pandas as pd\n",
    "import sys\n",
    "\n",
    "sys.path.append(\"../..\")\n",
    "from common.utils import timestep_csv_names"
   ]
  },
  {
   "cell_type": "code",
   "execution_count": 2,
   "metadata": {},
   "outputs": [],
   "source": [
    "import os\n",
    "root_dir = \"../../../data/one_day_data/\"\n",
    "assert os.path.exists(root_dir)"
   ]
  },
  {
   "cell_type": "code",
   "execution_count": 3,
   "metadata": {},
   "outputs": [
    {
     "data": {
      "text/html": [
       "<div>\n",
       "<style scoped>\n",
       "    .dataframe tbody tr th:only-of-type {\n",
       "        vertical-align: middle;\n",
       "    }\n",
       "\n",
       "    .dataframe tbody tr th {\n",
       "        vertical-align: top;\n",
       "    }\n",
       "\n",
       "    .dataframe thead th {\n",
       "        text-align: right;\n",
       "    }\n",
       "</style>\n",
       "<table border=\"1\" class=\"dataframe\">\n",
       "  <thead>\n",
       "    <tr style=\"text-align: right;\">\n",
       "      <th></th>\n",
       "      <th>date</th>\n",
       "      <th>rain</th>\n",
       "      <th>time</th>\n",
       "    </tr>\n",
       "  </thead>\n",
       "  <tbody>\n",
       "    <tr>\n",
       "      <th>232</th>\n",
       "      <td>2020-07-12</td>\n",
       "      <td>45.0</td>\n",
       "      <td>21-30</td>\n",
       "    </tr>\n",
       "    <tr>\n",
       "      <th>145</th>\n",
       "      <td>2020-05-25</td>\n",
       "      <td>42.0</td>\n",
       "      <td>19-20</td>\n",
       "    </tr>\n",
       "    <tr>\n",
       "      <th>240</th>\n",
       "      <td>2020-07-26</td>\n",
       "      <td>42.0</td>\n",
       "      <td>9-50</td>\n",
       "    </tr>\n",
       "    <tr>\n",
       "      <th>251</th>\n",
       "      <td>2020-09-23</td>\n",
       "      <td>41.5</td>\n",
       "      <td>9-30</td>\n",
       "    </tr>\n",
       "    <tr>\n",
       "      <th>244</th>\n",
       "      <td>2020-07-27</td>\n",
       "      <td>40.5</td>\n",
       "      <td>11-30</td>\n",
       "    </tr>\n",
       "  </tbody>\n",
       "</table>\n",
       "</div>"
      ],
      "text/plain": [
       "           date  rain   time\n",
       "232  2020-07-12  45.0  21-30\n",
       "145  2020-05-25  42.0  19-20\n",
       "240  2020-07-26  42.0   9-50\n",
       "251  2020-09-23  41.5   9-30\n",
       "244  2020-07-27  40.5  11-30"
      ]
     },
     "execution_count": 3,
     "metadata": {},
     "output_type": "execute_result"
    }
   ],
   "source": [
    "_timestep_csv_names = timestep_csv_names(delta=10)\n",
    "\n",
    "dates, rain_amounts, start_times = [], [], []\n",
    "for year in os.listdir(root_dir):\n",
    "    for month in os.listdir(root_dir + f\"/{year}\"):\n",
    "        for date in os.listdir(root_dir + f\"/{year}/{month}\"):\n",
    "            max_rainfall = 0\n",
    "            minimum_data_length = 40\n",
    "            start_time = \"0-0\"\n",
    "            for csv_filename in _timestep_csv_names:\n",
    "                csv_path = os.path.join(\n",
    "                        root_dir,\n",
    "                        year, month, date, csv_filename\n",
    "                    )\n",
    "                parquet_path = csv_path.replace(\".csv\", \".parquet.gzip\")\n",
    "                parquet_df = pd.read_parquet(parquet_path, engine=\"pyarrow\")\n",
    "\n",
    "                if parquet_df[\"AT1\"].max() > max_rainfall:\n",
    "                    max_rainfall = parquet_df[\"hour-rain\"].max()\n",
    "                    start_time = csv_filename.replace(\".csv\", \"\")\n",
    "\n",
    "                if len(parquet_df.index) < minimum_data_length:\n",
    "                    minimum_data_length = len(parquet_df.index)\n",
    "\n",
    "            if minimum_data_length > 0:\n",
    "                dates.append(date)\n",
    "                rain_amounts.append(max_rainfall)\n",
    "                start_times.append(start_time)\n",
    "\n",
    "df = pd.DataFrame({\"date\": dates, \"rain\": rain_amounts, \"time\": start_times})\n",
    "df = df.sort_values(by=\"rain\", ascending=False)\n",
    "df.reset_index()\n",
    "df.head()"
   ]
  },
  {
   "cell_type": "code",
   "execution_count": 4,
   "metadata": {},
   "outputs": [],
   "source": [
    "df.to_csv(\"daily_max_rainfall.csv\")"
   ]
  },
  {
   "cell_type": "code",
   "execution_count": null,
   "metadata": {},
   "outputs": [],
   "source": []
  }
 ],
 "metadata": {
  "kernelspec": {
   "display_name": "Python 3.9.7 ('.venv': poetry)",
   "language": "python",
   "name": "python3"
  },
  "language_info": {
   "codemirror_mode": {
    "name": "ipython",
    "version": 3
   },
   "file_extension": ".py",
   "mimetype": "text/x-python",
   "name": "python",
   "nbconvert_exporter": "python",
   "pygments_lexer": "ipython3",
   "version": "3.9.7"
  },
  "orig_nbformat": 4,
  "vscode": {
   "interpreter": {
    "hash": "66c17db9cd5468e0337032b94820fe6090b78c3bb4ae3b300e574bd714841591"
   }
  }
 },
 "nbformat": 4,
 "nbformat_minor": 2
}
