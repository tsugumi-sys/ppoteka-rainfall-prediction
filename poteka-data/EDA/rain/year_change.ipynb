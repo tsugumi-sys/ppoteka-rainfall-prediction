{
 "cells": [
  {
   "cell_type": "code",
   "execution_count": 1,
   "metadata": {},
   "outputs": [],
   "source": [
    "import pandas as pd\n",
    "import sys\n",
    "\n",
    "sys.path.append(\"../..\")\n",
    "from common.utils import timestep_csv_names"
   ]
  },
  {
   "cell_type": "code",
   "execution_count": 2,
   "metadata": {},
   "outputs": [],
   "source": [
    "import os\n",
    "root_dir = \"../../../data/one_day_data/\"\n",
    "assert os.path.exists(root_dir)"
   ]
  },
  {
   "cell_type": "code",
   "execution_count": 3,
   "metadata": {},
   "outputs": [
    {
     "data": {
      "text/html": [
       "<div>\n",
       "<style scoped>\n",
       "    .dataframe tbody tr th:only-of-type {\n",
       "        vertical-align: middle;\n",
       "    }\n",
       "\n",
       "    .dataframe tbody tr th {\n",
       "        vertical-align: top;\n",
       "    }\n",
       "\n",
       "    .dataframe thead th {\n",
       "        text-align: right;\n",
       "    }\n",
       "</style>\n",
       "<table border=\"1\" class=\"dataframe\">\n",
       "  <thead>\n",
       "    <tr style=\"text-align: right;\">\n",
       "      <th></th>\n",
       "      <th>date</th>\n",
       "      <th>rain</th>\n",
       "      <th>time</th>\n",
       "    </tr>\n",
       "  </thead>\n",
       "  <tbody>\n",
       "    <tr>\n",
       "      <th>647</th>\n",
       "      <td>2019-01-01</td>\n",
       "      <td>0.0</td>\n",
       "      <td>0-0</td>\n",
       "    </tr>\n",
       "    <tr>\n",
       "      <th>662</th>\n",
       "      <td>2019-01-02</td>\n",
       "      <td>0.0</td>\n",
       "      <td>0-0</td>\n",
       "    </tr>\n",
       "    <tr>\n",
       "      <th>656</th>\n",
       "      <td>2019-01-03</td>\n",
       "      <td>0.0</td>\n",
       "      <td>0-0</td>\n",
       "    </tr>\n",
       "    <tr>\n",
       "      <th>651</th>\n",
       "      <td>2019-01-04</td>\n",
       "      <td>0.0</td>\n",
       "      <td>0-0</td>\n",
       "    </tr>\n",
       "    <tr>\n",
       "      <th>659</th>\n",
       "      <td>2019-01-05</td>\n",
       "      <td>0.0</td>\n",
       "      <td>0-0</td>\n",
       "    </tr>\n",
       "  </tbody>\n",
       "</table>\n",
       "</div>"
      ],
      "text/plain": [
       "           date  rain time\n",
       "647  2019-01-01   0.0  0-0\n",
       "662  2019-01-02   0.0  0-0\n",
       "656  2019-01-03   0.0  0-0\n",
       "651  2019-01-04   0.0  0-0\n",
       "659  2019-01-05   0.0  0-0"
      ]
     },
     "execution_count": 3,
     "metadata": {},
     "output_type": "execute_result"
    }
   ],
   "source": [
    "_timestep_csv_names = timestep_csv_names(delta=10)\n",
    "\n",
    "dates, rain_amounts, start_times = [], [], []\n",
    "for year in os.listdir(root_dir):\n",
    "    for month in os.listdir(root_dir + f\"/{year}\"):\n",
    "        for date in os.listdir(root_dir + f\"/{year}/{month}\"):\n",
    "            max_rainfall = 0\n",
    "            minimum_data_length = 40\n",
    "            start_time = \"0-0\"\n",
    "            for csv_filename in _timestep_csv_names:\n",
    "                csv_path = os.path.join(\n",
    "                        root_dir,\n",
    "                        year, month, date, csv_filename\n",
    "                    )\n",
    "                parquet_path = csv_path.replace(\".csv\", \".parquet.gzip\")\n",
    "                if os.path.exists(parquet_path):\n",
    "                    parquet_df = pd.read_parquet(parquet_path, engine=\"pyarrow\")\n",
    "                else:\n",
    "                    parquet_df = pd.read_csv(csv_path)\n",
    "\n",
    "                if parquet_df[\"hour-rain\"].max() > max_rainfall:\n",
    "                    max_rainfall = parquet_df[\"hour-rain\"].max()\n",
    "                    start_time = csv_filename.replace(\".csv\", \"\")\n",
    "\n",
    "                if len(parquet_df.index) < minimum_data_length:\n",
    "                    minimum_data_length = len(parquet_df.index)\n",
    "\n",
    "            if minimum_data_length > 0:\n",
    "                dates.append(date)\n",
    "                rain_amounts.append(max_rainfall)\n",
    "                start_times.append(start_time)\n",
    "\n",
    "df = pd.DataFrame({\"date\": dates, \"rain\": rain_amounts, \"time\": start_times})\n",
    "df = df.sort_values(by=\"date\")\n",
    "df.reset_index()\n",
    "df.head()"
   ]
  },
  {
   "cell_type": "code",
   "execution_count": 4,
   "metadata": {},
   "outputs": [
    {
     "data": {
      "text/html": [
       "<div>\n",
       "<style scoped>\n",
       "    .dataframe tbody tr th:only-of-type {\n",
       "        vertical-align: middle;\n",
       "    }\n",
       "\n",
       "    .dataframe tbody tr th {\n",
       "        vertical-align: top;\n",
       "    }\n",
       "\n",
       "    .dataframe thead th {\n",
       "        text-align: right;\n",
       "    }\n",
       "</style>\n",
       "<table border=\"1\" class=\"dataframe\">\n",
       "  <thead>\n",
       "    <tr style=\"text-align: right;\">\n",
       "      <th></th>\n",
       "      <th>date</th>\n",
       "      <th>rain</th>\n",
       "      <th>time</th>\n",
       "      <th>month</th>\n",
       "    </tr>\n",
       "  </thead>\n",
       "  <tbody>\n",
       "    <tr>\n",
       "      <th>647</th>\n",
       "      <td>2019-01-01</td>\n",
       "      <td>0.0</td>\n",
       "      <td>0-0</td>\n",
       "      <td>2019-01</td>\n",
       "    </tr>\n",
       "    <tr>\n",
       "      <th>662</th>\n",
       "      <td>2019-01-02</td>\n",
       "      <td>0.0</td>\n",
       "      <td>0-0</td>\n",
       "      <td>2019-01</td>\n",
       "    </tr>\n",
       "    <tr>\n",
       "      <th>656</th>\n",
       "      <td>2019-01-03</td>\n",
       "      <td>0.0</td>\n",
       "      <td>0-0</td>\n",
       "      <td>2019-01</td>\n",
       "    </tr>\n",
       "    <tr>\n",
       "      <th>651</th>\n",
       "      <td>2019-01-04</td>\n",
       "      <td>0.0</td>\n",
       "      <td>0-0</td>\n",
       "      <td>2019-01</td>\n",
       "    </tr>\n",
       "    <tr>\n",
       "      <th>659</th>\n",
       "      <td>2019-01-05</td>\n",
       "      <td>0.0</td>\n",
       "      <td>0-0</td>\n",
       "      <td>2019-01</td>\n",
       "    </tr>\n",
       "  </tbody>\n",
       "</table>\n",
       "</div>"
      ],
      "text/plain": [
       "           date  rain time    month\n",
       "647  2019-01-01   0.0  0-0  2019-01\n",
       "662  2019-01-02   0.0  0-0  2019-01\n",
       "656  2019-01-03   0.0  0-0  2019-01\n",
       "651  2019-01-04   0.0  0-0  2019-01\n",
       "659  2019-01-05   0.0  0-0  2019-01"
      ]
     },
     "execution_count": 4,
     "metadata": {},
     "output_type": "execute_result"
    }
   ],
   "source": [
    "df[\"month\"] = df[\"date\"].apply(lambda x: x.split(\"-\")[0] + \"-\" + x.split(\"-\")[1])\n",
    "df.head()"
   ]
  },
  {
   "cell_type": "code",
   "execution_count": 5,
   "metadata": {},
   "outputs": [],
   "source": [
    "# import seaborn as sns\n",
    "# import matplotlib.pyplot as plt\n",
    "\n",
    "# ax = sns.lineplot(data=df, x=\"date\", y=\"rain\")\n",
    "# first_dates = df.groupby(by=[\"month\"]).min()[\"date\"].values.tolist()\n",
    "# ax.set_xticks(first_dates)\n",
    "# ax.set_xticklabels(first_dates, rotation=70)\n",
    "# ax.set_title(\"The change of daily max hourly rainfall\")\n",
    "# ax.set_ylabel(\"Hourly Rainfall (mm/h)\")\n",
    "# ax.set_xlabel(\"Date\")\n",
    "# plt.show()\n",
    "# plt.close()"
   ]
  },
  {
   "cell_type": "code",
   "execution_count": 6,
   "metadata": {},
   "outputs": [
    {
     "data": {
      "image/png": "[encoded data removed]",
      "text/plain": [
       "<Figure size 640x480 with 1 Axes>"
      ]
     },
     "metadata": {},
     "output_type": "display_data"
    }
   ],
   "source": [
    "import seaborn as sns\n",
    "import matplotlib.pyplot as plt\n",
    "\n",
    "df[\"fifty\"] = 50\n",
    "sns.set_theme(style=\"whitegrid\")\n",
    "ax = sns.boxplot(data=df, x=\"month\", y=\"rain\", color=\"lightblue\")\n",
    "# sns.pointplot(data=df, x=\"month\", y=\"fifty\",  markers=[\".\"], linestyles=[\"--\"], color=\"red\")\n",
    "# monthes = df[\"month\"].unique().tolist()\n",
    "# ax.set_xticks(monthes)\n",
    "# ax.set_xticklabels(monthes, rotation=70)\n",
    "plt.xticks(rotation=75)\n",
    "ax.set_title(\"Monthly distribution of daily max hourly rainfall\")\n",
    "ax.set_ylabel(\"Hourly Rainfall (mm/h)\")\n",
    "ax.set_xlabel(\"Date\")\n",
    "\n",
    "plt.tight_layout()\n",
    "plt.savefig(\"./rain_boxplot.png\")\n",
    "plt.show()\n",
    "plt.close()"
   ]
  },
  {
   "cell_type": "code",
   "execution_count": null,
   "metadata": {},
   "outputs": [],
   "source": []
  },
  {
   "cell_type": "code",
   "execution_count": null,
   "metadata": {},
   "outputs": [],
   "source": []
  }
 ],
 "metadata": {
  "interpreter": {
   "hash": "de5ff8a6a7c8cfdbe01ee77cd73736703544650b57009b4080e92318eaf02ce7"
  },
  "kernelspec": {
   "display_name": "Python 3.7.9 64-bit ('p-poteka': conda)",
   "language": "python",
   "name": "python3"
  },
  "language_info": {
   "codemirror_mode": {
    "name": "ipython",
    "version": 3
   },
   "file_extension": ".py",
   "mimetype": "text/x-python",
   "name": "python",
   "nbconvert_exporter": "python",
   "pygments_lexer": "ipython3",
   "version": "3.7.9"
  },
  "orig_nbformat": 4
 },
 "nbformat": 4,
 "nbformat_minor": 2
}
