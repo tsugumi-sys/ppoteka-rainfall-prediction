{
 "cells": [
  {
   "cell_type": "code",
   "execution_count": 2,
   "metadata": {},
   "outputs": [],
   "source": [
    "import pandas as pd\n",
    "import os\n",
    "import sys\n",
    "\n",
    "sys.path.append(\"../..\")\n",
    "from common.utils import timestep_csv_names\n",
    "from common.constants import DATAFOLDER\n",
    "\n",
    "root_dir = os.path.join(DATAFOLDER.data_root_path, \"one_day_data\")"
   ]
  },
  {
   "cell_type": "code",
   "execution_count": 2,
   "metadata": {},
   "outputs": [
    {
     "ename": "FileNotFoundError",
     "evalue": "[Errno 2] No such file or directory: './valid_dataset.json'",
     "output_type": "error",
     "traceback": [
      "\u001b[0;31m---------------------------------------------------------------------------\u001b[0m",
      "\u001b[0;31mFileNotFoundError\u001b[0m                         Traceback (most recent call last)",
      "\u001b[1;32m/Users/akiranoda/projects/p-poteka/poteka_data_analysis/EDA/rain/max_rainfall_durations.ipynb Cell 2'\u001b[0m in \u001b[0;36m<cell line: 2>\u001b[0;34m()\u001b[0m\n\u001b[1;32m      <a href='vscode-notebook-cell:/Users/akiranoda/projects/p-poteka/poteka_data_analysis/EDA/rain/max_rainfall_durations.ipynb#ch0000001?line=0'>1</a>\u001b[0m \u001b[39mimport\u001b[39;00m \u001b[39mjson\u001b[39;00m\n\u001b[0;32m----> <a href='vscode-notebook-cell:/Users/akiranoda/projects/p-poteka/poteka_data_analysis/EDA/rain/max_rainfall_durations.ipynb#ch0000001?line=1'>2</a>\u001b[0m f \u001b[39m=\u001b[39m \u001b[39mopen\u001b[39;49m(\u001b[39m\"\u001b[39;49m\u001b[39m./valid_dataset.json\u001b[39;49m\u001b[39m\"\u001b[39;49m)\n\u001b[1;32m      <a href='vscode-notebook-cell:/Users/akiranoda/projects/p-poteka/poteka_data_analysis/EDA/rain/max_rainfall_durations.ipynb#ch0000001?line=2'>3</a>\u001b[0m valid_set \u001b[39m=\u001b[39m json\u001b[39m.\u001b[39mload(f)\n\u001b[1;32m      <a href='vscode-notebook-cell:/Users/akiranoda/projects/p-poteka/poteka_data_analysis/EDA/rain/max_rainfall_durations.ipynb#ch0000001?line=3'>4</a>\u001b[0m valid_dates \u001b[39m=\u001b[39m []\n",
      "\u001b[0;31mFileNotFoundError\u001b[0m: [Errno 2] No such file or directory: './valid_dataset.json'"
     ]
    }
   ],
   "source": [
    "# import json\n",
    "# f = open(\"./valid_dataset.json\")\n",
    "# valid_set = json.load(f)\n",
    "# valid_dates = []\n",
    "# for case_name in valid_set.keys():\n",
    "#     for sample_name in valid_set[case_name].keys():\n",
    "#         date = valid_set[case_name][sample_name][\"0\"][\"date\"]\n",
    "#         valid_dates.append(date)\n",
    "\n",
    "# print(valid_dates)"
   ]
  },
  {
   "cell_type": "code",
   "execution_count": 1,
   "metadata": {},
   "outputs": [
    {
     "data": {
      "text/html": [
       "<div>\n",
       "<style scoped>\n",
       "    .dataframe tbody tr th:only-of-type {\n",
       "        vertical-align: middle;\n",
       "    }\n",
       "\n",
       "    .dataframe tbody tr th {\n",
       "        vertical-align: top;\n",
       "    }\n",
       "\n",
       "    .dataframe thead th {\n",
       "        text-align: right;\n",
       "    }\n",
       "</style>\n",
       "<table border=\"1\" class=\"dataframe\">\n",
       "  <thead>\n",
       "    <tr style=\"text-align: right;\">\n",
       "      <th></th>\n",
       "      <th>index</th>\n",
       "      <th>date</th>\n",
       "      <th>start_time</th>\n",
       "      <th>peak_time</th>\n",
       "      <th>end_time</th>\n",
       "      <th>duration</th>\n",
       "      <th>max_rainfall</th>\n",
       "    </tr>\n",
       "  </thead>\n",
       "  <tbody>\n",
       "    <tr>\n",
       "      <th>0</th>\n",
       "      <td>115</td>\n",
       "      <td>2020-08-01</td>\n",
       "      <td>3-40</td>\n",
       "      <td>5-0</td>\n",
       "      <td>7-10</td>\n",
       "      <td>21</td>\n",
       "      <td>88.0</td>\n",
       "    </tr>\n",
       "    <tr>\n",
       "      <th>1</th>\n",
       "      <td>176</td>\n",
       "      <td>2020-10-12</td>\n",
       "      <td>6-10</td>\n",
       "      <td>8-10</td>\n",
       "      <td>9-40</td>\n",
       "      <td>21</td>\n",
       "      <td>82.0</td>\n",
       "    </tr>\n",
       "    <tr>\n",
       "      <th>2</th>\n",
       "      <td>106</td>\n",
       "      <td>2020-07-27</td>\n",
       "      <td>10-50</td>\n",
       "      <td>12-20</td>\n",
       "      <td>13-40</td>\n",
       "      <td>17</td>\n",
       "      <td>80.0</td>\n",
       "    </tr>\n",
       "    <tr>\n",
       "      <th>3</th>\n",
       "      <td>95</td>\n",
       "      <td>2020-07-12</td>\n",
       "      <td>21-10</td>\n",
       "      <td>22-0</td>\n",
       "      <td>23-20</td>\n",
       "      <td>13</td>\n",
       "      <td>76.5</td>\n",
       "    </tr>\n",
       "    <tr>\n",
       "      <th>4</th>\n",
       "      <td>144</td>\n",
       "      <td>2020-09-14</td>\n",
       "      <td>4-50</td>\n",
       "      <td>6-0</td>\n",
       "      <td>7-0</td>\n",
       "      <td>13</td>\n",
       "      <td>76.0</td>\n",
       "    </tr>\n",
       "  </tbody>\n",
       "</table>\n",
       "</div>"
      ],
      "text/plain": [
       "   index        date start_time peak_time end_time  duration  max_rainfall\n",
       "0    115  2020-08-01       3-40       5-0     7-10        21          88.0\n",
       "1    176  2020-10-12       6-10      8-10     9-40        21          82.0\n",
       "2    106  2020-07-27      10-50     12-20    13-40        17          80.0\n",
       "3     95  2020-07-12      21-10      22-0    23-20        13          76.5\n",
       "4    144  2020-09-14       4-50       6-0      7-0        13          76.0"
      ]
     },
     "execution_count": 1,
     "metadata": {},
     "output_type": "execute_result"
    }
   ],
   "source": [
    "import sys\n",
    "sys.path.append(\"..\")\n",
    "from utils.search_rainfalls import search_rainfalls\n",
    "\n",
    "df = search_rainfalls()\n",
    "df.head()"
   ]
  },
  {
   "cell_type": "code",
   "execution_count": 4,
   "metadata": {},
   "outputs": [],
   "source": [
    "df.to_csv(\"train_dataset.csv\")"
   ]
  },
  {
   "cell_type": "code",
   "execution_count": 2,
   "metadata": {},
   "outputs": [
    {
     "data": {
      "text/html": [
       "<div>\n",
       "<style scoped>\n",
       "    .dataframe tbody tr th:only-of-type {\n",
       "        vertical-align: middle;\n",
       "    }\n",
       "\n",
       "    .dataframe tbody tr th {\n",
       "        vertical-align: top;\n",
       "    }\n",
       "\n",
       "    .dataframe thead th {\n",
       "        text-align: right;\n",
       "    }\n",
       "</style>\n",
       "<table border=\"1\" class=\"dataframe\">\n",
       "  <thead>\n",
       "    <tr style=\"text-align: right;\">\n",
       "      <th></th>\n",
       "      <th>index</th>\n",
       "      <th>duration</th>\n",
       "      <th>max_rainfall</th>\n",
       "    </tr>\n",
       "  </thead>\n",
       "  <tbody>\n",
       "    <tr>\n",
       "      <th>count</th>\n",
       "      <td>44.000000</td>\n",
       "      <td>44.000000</td>\n",
       "      <td>44.000000</td>\n",
       "    </tr>\n",
       "    <tr>\n",
       "      <th>mean</th>\n",
       "      <td>100.136364</td>\n",
       "      <td>19.363636</td>\n",
       "      <td>54.090909</td>\n",
       "    </tr>\n",
       "    <tr>\n",
       "      <th>std</th>\n",
       "      <td>50.288281</td>\n",
       "      <td>7.915516</td>\n",
       "      <td>12.806826</td>\n",
       "    </tr>\n",
       "    <tr>\n",
       "      <th>min</th>\n",
       "      <td>3.000000</td>\n",
       "      <td>10.000000</td>\n",
       "      <td>40.500000</td>\n",
       "    </tr>\n",
       "    <tr>\n",
       "      <th>25%</th>\n",
       "      <td>64.500000</td>\n",
       "      <td>14.000000</td>\n",
       "      <td>43.000000</td>\n",
       "    </tr>\n",
       "    <tr>\n",
       "      <th>50%</th>\n",
       "      <td>106.500000</td>\n",
       "      <td>17.000000</td>\n",
       "      <td>51.250000</td>\n",
       "    </tr>\n",
       "    <tr>\n",
       "      <th>75%</th>\n",
       "      <td>138.500000</td>\n",
       "      <td>22.000000</td>\n",
       "      <td>60.000000</td>\n",
       "    </tr>\n",
       "    <tr>\n",
       "      <th>max</th>\n",
       "      <td>178.000000</td>\n",
       "      <td>50.000000</td>\n",
       "      <td>88.000000</td>\n",
       "    </tr>\n",
       "  </tbody>\n",
       "</table>\n",
       "</div>"
      ],
      "text/plain": [
       "            index   duration  max_rainfall\n",
       "count   44.000000  44.000000     44.000000\n",
       "mean   100.136364  19.363636     54.090909\n",
       "std     50.288281   7.915516     12.806826\n",
       "min      3.000000  10.000000     40.500000\n",
       "25%     64.500000  14.000000     43.000000\n",
       "50%    106.500000  17.000000     51.250000\n",
       "75%    138.500000  22.000000     60.000000\n",
       "max    178.000000  50.000000     88.000000"
      ]
     },
     "execution_count": 2,
     "metadata": {},
     "output_type": "execute_result"
    }
   ],
   "source": [
    "df.loc[df[\"max_rainfall\"] > 40].describe()"
   ]
  },
  {
   "cell_type": "code",
   "execution_count": null,
   "metadata": {},
   "outputs": [],
   "source": []
  }
 ],
 "metadata": {
  "kernelspec": {
   "display_name": "Python 3.9.7 ('.venv': poetry)",
   "language": "python",
   "name": "python3"
  },
  "language_info": {
   "codemirror_mode": {
    "name": "ipython",
    "version": 3
   },
   "file_extension": ".py",
   "mimetype": "text/x-python",
   "name": "python",
   "nbconvert_exporter": "python",
   "pygments_lexer": "ipython3",
   "version": "3.9.7"
  },
  "orig_nbformat": 4,
  "vscode": {
   "interpreter": {
    "hash": "66c17db9cd5468e0337032b94820fe6090b78c3bb4ae3b300e574bd714841591"
   }
  }
 },
 "nbformat": 4,
 "nbformat_minor": 2
}
