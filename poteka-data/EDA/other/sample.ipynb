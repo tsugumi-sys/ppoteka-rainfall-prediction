{
 "cells": [
  {
   "cell_type": "code",
   "execution_count": 6,
   "metadata": {},
   "outputs": [
    {
     "data": {
      "text/plain": [
       "(3, 3, 2, 10)"
      ]
     },
     "execution_count": 6,
     "metadata": {},
     "output_type": "execute_result"
    }
   ],
   "source": [
    "import pandas as pd\n",
    "import numpy as np\n",
    "\n",
    "df = pd.DataFrame(columns=[\"hue\", \"hour-rain\", \"Pred_Value\"])\n",
    "hues = [\"sample1\", \"sample2\", \"sample3\"]\n",
    "sample_data = np.random.rand(3, 3, 2, 10)\n",
    "# mpty([3, 3, 2, 10])\n",
    "sample_data.shape"
   ]
  },
  {
   "cell_type": "code",
   "execution_count": 7,
   "metadata": {},
   "outputs": [
    {
     "name": "stdout",
     "output_type": "stream",
     "text": [
      "(2, 10)\n",
      "(2, 10)\n",
      "(2, 10)\n",
      "(2, 10)\n",
      "(2, 10)\n",
      "(2, 10)\n",
      "(2, 10)\n",
      "(2, 10)\n",
      "(2, 10)\n"
     ]
    }
   ],
   "source": [
    "for hue_idx, hue in enumerate(hues):\n",
    "    for batch_idx, batch in enumerate(sample_data[hue_idx]):\n",
    "        item = sample_data[hue_idx][batch_idx]\n",
    "        sample_df = pd.DataFrame({\"hour-rain\": item[0], \"Pred_Value\": item[1]})\n",
    "        sample_df[\"hue\"] = hue\n",
    "        df = df.append(sample_df, ignore_index=True)\n",
    "        # sample_df = sample_df.reset_index(drop=True)\n",
    "        # if len(df) == 0:\n",
    "        #     df = df\n",
    "        # else:\n",
    "        #     print(df.index)\n",
    "        #     print(sample_df.index)\n",
    "        #     df = pd.concat([df, sample_df], axis=0, ignore_index=True)\n",
    "        print(item.shape)"
   ]
  },
  {
   "cell_type": "code",
   "execution_count": 8,
   "metadata": {},
   "outputs": [
    {
     "data": {
      "text/html": [
       "<div>\n",
       "<style scoped>\n",
       "    .dataframe tbody tr th:only-of-type {\n",
       "        vertical-align: middle;\n",
       "    }\n",
       "\n",
       "    .dataframe tbody tr th {\n",
       "        vertical-align: top;\n",
       "    }\n",
       "\n",
       "    .dataframe thead th {\n",
       "        text-align: right;\n",
       "    }\n",
       "</style>\n",
       "<table border=\"1\" class=\"dataframe\">\n",
       "  <thead>\n",
       "    <tr style=\"text-align: right;\">\n",
       "      <th></th>\n",
       "      <th>hue</th>\n",
       "      <th>hour-rain</th>\n",
       "      <th>Pred_Value</th>\n",
       "    </tr>\n",
       "  </thead>\n",
       "  <tbody>\n",
       "    <tr>\n",
       "      <th>0</th>\n",
       "      <td>sample1</td>\n",
       "      <td>0.543596</td>\n",
       "      <td>0.892212</td>\n",
       "    </tr>\n",
       "    <tr>\n",
       "      <th>1</th>\n",
       "      <td>sample1</td>\n",
       "      <td>0.255615</td>\n",
       "      <td>0.978463</td>\n",
       "    </tr>\n",
       "    <tr>\n",
       "      <th>2</th>\n",
       "      <td>sample1</td>\n",
       "      <td>0.607194</td>\n",
       "      <td>0.526766</td>\n",
       "    </tr>\n",
       "    <tr>\n",
       "      <th>3</th>\n",
       "      <td>sample1</td>\n",
       "      <td>0.328559</td>\n",
       "      <td>0.588060</td>\n",
       "    </tr>\n",
       "    <tr>\n",
       "      <th>4</th>\n",
       "      <td>sample1</td>\n",
       "      <td>0.989517</td>\n",
       "      <td>0.555130</td>\n",
       "    </tr>\n",
       "    <tr>\n",
       "      <th>...</th>\n",
       "      <td>...</td>\n",
       "      <td>...</td>\n",
       "      <td>...</td>\n",
       "    </tr>\n",
       "    <tr>\n",
       "      <th>85</th>\n",
       "      <td>sample3</td>\n",
       "      <td>0.012948</td>\n",
       "      <td>0.390447</td>\n",
       "    </tr>\n",
       "    <tr>\n",
       "      <th>86</th>\n",
       "      <td>sample3</td>\n",
       "      <td>0.683781</td>\n",
       "      <td>0.882068</td>\n",
       "    </tr>\n",
       "    <tr>\n",
       "      <th>87</th>\n",
       "      <td>sample3</td>\n",
       "      <td>0.315232</td>\n",
       "      <td>0.275239</td>\n",
       "    </tr>\n",
       "    <tr>\n",
       "      <th>88</th>\n",
       "      <td>sample3</td>\n",
       "      <td>0.455548</td>\n",
       "      <td>0.674833</td>\n",
       "    </tr>\n",
       "    <tr>\n",
       "      <th>89</th>\n",
       "      <td>sample3</td>\n",
       "      <td>0.312757</td>\n",
       "      <td>0.431407</td>\n",
       "    </tr>\n",
       "  </tbody>\n",
       "</table>\n",
       "<p>90 rows × 3 columns</p>\n",
       "</div>"
      ],
      "text/plain": [
       "        hue  hour-rain  Pred_Value\n",
       "0   sample1   0.543596    0.892212\n",
       "1   sample1   0.255615    0.978463\n",
       "2   sample1   0.607194    0.526766\n",
       "3   sample1   0.328559    0.588060\n",
       "4   sample1   0.989517    0.555130\n",
       "..      ...        ...         ...\n",
       "85  sample3   0.012948    0.390447\n",
       "86  sample3   0.683781    0.882068\n",
       "87  sample3   0.315232    0.275239\n",
       "88  sample3   0.455548    0.674833\n",
       "89  sample3   0.312757    0.431407\n",
       "\n",
       "[90 rows x 3 columns]"
      ]
     },
     "execution_count": 8,
     "metadata": {},
     "output_type": "execute_result"
    }
   ],
   "source": [
    "df"
   ]
  },
  {
   "cell_type": "code",
   "execution_count": 13,
   "metadata": {},
   "outputs": [
    {
     "data": {
      "image/png": "[encoded data removed]",
      "text/plain": [
       "<Figure size 640x480 with 1 Axes>"
      ]
     },
     "metadata": {},
     "output_type": "display_data"
    }
   ],
   "source": [
    "import matplotlib.pyplot as plt\n",
    "import seaborn as sns\n",
    "ax = sns.scatterplot(data=df, x=\"hour-rain\", y=\"Pred_Value\", hue=\"hue\")\n",
    "ax.set_xlim(0, 1)\n",
    "ax.set_xlabel(\"Unko\")\n",
    "plt.show()"
   ]
  },
  {
   "cell_type": "code",
   "execution_count": null,
   "metadata": {},
   "outputs": [],
   "source": []
  }
 ],
 "metadata": {
  "interpreter": {
   "hash": "0295668de9a873250d44a1e814ff95f1779177595c175aeb6627898987762872"
  },
  "kernelspec": {
   "display_name": "Python 3.7.9 64-bit ('p-poteka': conda)",
   "name": "python3"
  },
  "language_info": {
   "codemirror_mode": {
    "name": "ipython",
    "version": 3
   },
   "file_extension": ".py",
   "mimetype": "text/x-python",
   "name": "python",
   "nbconvert_exporter": "python",
   "pygments_lexer": "ipython3",
   "version": "3.7.9"
  },
  "orig_nbformat": 4
 },
 "nbformat": 4,
 "nbformat_minor": 2
}