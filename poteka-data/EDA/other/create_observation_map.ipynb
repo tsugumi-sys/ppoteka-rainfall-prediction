{
 "cells": [
  {
   "cell_type": "code",
   "execution_count": 4,
   "metadata": {},
   "outputs": [],
   "source": [
    "import pandas as pd\n",
    "import os\n",
    "\n",
    "data_file = \"../../../p-poteka-config/observation_point.csv\"\n",
    "\n",
    "assert os.path.exists(data_file)"
   ]
  },
  {
   "cell_type": "code",
   "execution_count": 5,
   "metadata": {},
   "outputs": [
    {
     "data": {
      "text/html": [
       "<div>\n",
       "<style scoped>\n",
       "    .dataframe tbody tr th:only-of-type {\n",
       "        vertical-align: middle;\n",
       "    }\n",
       "\n",
       "    .dataframe tbody tr th {\n",
       "        vertical-align: top;\n",
       "    }\n",
       "\n",
       "    .dataframe thead th {\n",
       "        text-align: right;\n",
       "    }\n",
       "</style>\n",
       "<table border=\"1\" class=\"dataframe\">\n",
       "  <thead>\n",
       "    <tr style=\"text-align: right;\">\n",
       "      <th></th>\n",
       "      <th>LON</th>\n",
       "      <th>LAT</th>\n",
       "    </tr>\n",
       "    <tr>\n",
       "      <th>Name</th>\n",
       "      <th></th>\n",
       "      <th></th>\n",
       "    </tr>\n",
       "  </thead>\n",
       "  <tbody>\n",
       "    <tr>\n",
       "      <th>Vlz-Bagbaguin_00174731</th>\n",
       "      <td>121.0009</td>\n",
       "      <td>14.7134</td>\n",
       "    </tr>\n",
       "    <tr>\n",
       "      <th>NagNayon_00181273</th>\n",
       "      <td>121.0285</td>\n",
       "      <td>14.7192</td>\n",
       "    </tr>\n",
       "    <tr>\n",
       "      <th>Sinegue_00181300</th>\n",
       "      <td>120.9319</td>\n",
       "      <td>14.4599</td>\n",
       "    </tr>\n",
       "    <tr>\n",
       "      <th>DLSAU_00174722</th>\n",
       "      <td>120.9974</td>\n",
       "      <td>14.6705</td>\n",
       "    </tr>\n",
       "    <tr>\n",
       "      <th>ASTI_00173457</th>\n",
       "      <td>121.0721</td>\n",
       "      <td>14.6471</td>\n",
       "    </tr>\n",
       "  </tbody>\n",
       "</table>\n",
       "</div>"
      ],
      "text/plain": [
       "                             LON      LAT\n",
       "Name                                     \n",
       "Vlz-Bagbaguin_00174731  121.0009  14.7134\n",
       "NagNayon_00181273       121.0285  14.7192\n",
       "Sinegue_00181300        120.9319  14.4599\n",
       "DLSAU_00174722          120.9974  14.6705\n",
       "ASTI_00173457           121.0721  14.6471"
      ]
     },
     "execution_count": 5,
     "metadata": {},
     "output_type": "execute_result"
    }
   ],
   "source": [
    "locations_df = pd.read_csv(data_file, index_col=0)\n",
    "locations_df.head()"
   ]
  },
  {
   "cell_type": "code",
   "execution_count": 22,
   "metadata": {},
   "outputs": [],
   "source": [
    "from bokeh.io import output_file, show, export_png\n",
    "from bokeh.models import ColumnDataSource, GMapOptions\n",
    "from bokeh.plotting import gmap\n",
    "import numpy as np\n",
    "\n",
    "output_file(\"gmap.html\")\n",
    "\n",
    "map_options = GMapOptions(lat=np.median(locations_df[\"LAT\"].values), lng=np.median(locations_df[\"LON\"].values), map_type=\"roadmap\", zoom=11)\n",
    "\n",
    "# For GMaps to function, Google requires you obtain and enable an API key:\n",
    "#\n",
    "#     https://developers.google.com/maps/documentation/javascript/get-api-key\n",
    "#\n",
    "# Replace the value below with your personal API key:\n",
    "p = gmap(\"***\", map_options, title=\"P-POTEKA distribution.\", aspect_ratio=0.7)\n",
    "\n",
    "source = ColumnDataSource(\n",
    "    data=dict(lat=locations_df[\"LAT\"].values.tolist(),\n",
    "              lon=locations_df[\"LON\"].values.tolist(),\n",
    "    )\n",
    ")\n",
    "\n",
    "p.circle(x=\"lon\", y=\"lat\", size=15, fill_color=\"red\", fill_alpha=0.8, source=source, legend_label=\"P-POTEKA unit\")\n",
    "export_png(p, filename=\"p_poteka_map.png\")\n",
    "\n",
    "show(p)"
   ]
  },
  {
   "cell_type": "code",
   "execution_count": null,
   "metadata": {},
   "outputs": [],
   "source": []
  }
 ],
 "metadata": {
  "interpreter": {
   "hash": "de5ff8a6a7c8cfdbe01ee77cd73736703544650b57009b4080e92318eaf02ce7"
  },
  "kernelspec": {
   "display_name": "Python 3.7.9 64-bit ('p-poteka': conda)",
   "language": "python",
   "name": "python3"
  },
  "language_info": {
   "codemirror_mode": {
    "name": "ipython",
    "version": 3
   },
   "file_extension": ".py",
   "mimetype": "text/x-python",
   "name": "python",
   "nbconvert_exporter": "python",
   "pygments_lexer": "ipython3",
   "version": "3.7.9"
  },
  "orig_nbformat": 4
 },
 "nbformat": 4,
 "nbformat_minor": 2
}
